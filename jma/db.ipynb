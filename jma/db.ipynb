{
 "cells": [
  {
   "cell_type": "code",
   "execution_count": 3,
   "metadata": {},
   "outputs": [
    {
     "ename": "OperationalError",
     "evalue": "database is locked",
     "output_type": "error",
     "traceback": [
      "\u001b[0;31m---------------------------------------------------------------------------\u001b[0m",
      "\u001b[0;31mOperationalError\u001b[0m                          Traceback (most recent call last)",
      "Cell \u001b[0;32mIn[3], line 48\u001b[0m\n\u001b[1;32m     45\u001b[0m \u001b[38;5;28;01mif\u001b[39;00m children:\n\u001b[1;32m     46\u001b[0m     \u001b[38;5;28;01mfor\u001b[39;00m region_code \u001b[38;5;129;01min\u001b[39;00m children:\n\u001b[1;32m     47\u001b[0m         \u001b[38;5;66;03m# 子エリアIDを挿入\u001b[39;00m\n\u001b[0;32m---> 48\u001b[0m         \u001b[43mcursor\u001b[49m\u001b[38;5;241;43m.\u001b[39;49m\u001b[43mexecute\u001b[49m\u001b[43m(\u001b[49m\u001b[38;5;124;43m\"\"\"\u001b[39;49m\n\u001b[1;32m     49\u001b[0m \u001b[38;5;124;43m        INSERT INTO area_info (id, area_code, area_name, en_name, office_name, children_code)\u001b[39;49m\n\u001b[1;32m     50\u001b[0m \u001b[38;5;124;43m        VALUES (?, ?, ?, ?, ?, ?)\u001b[39;49m\n\u001b[1;32m     51\u001b[0m \u001b[38;5;124;43m        \u001b[39;49m\u001b[38;5;124;43m\"\"\"\u001b[39;49m\u001b[43m,\u001b[49m\u001b[43m \u001b[49m\u001b[43m(\u001b[49m\u001b[43mid_counter\u001b[49m\u001b[43m,\u001b[49m\u001b[43m \u001b[49m\u001b[43marea_code\u001b[49m\u001b[43m,\u001b[49m\u001b[43m \u001b[49m\u001b[43mname\u001b[49m\u001b[43m,\u001b[49m\u001b[43m \u001b[49m\u001b[43menName\u001b[49m\u001b[43m,\u001b[49m\u001b[43m \u001b[49m\u001b[43mofficeName\u001b[49m\u001b[43m,\u001b[49m\u001b[43m \u001b[49m\u001b[43mregion_code\u001b[49m\u001b[43m)\u001b[49m\u001b[43m)\u001b[49m\n\u001b[1;32m     52\u001b[0m         id_counter \u001b[38;5;241m+\u001b[39m\u001b[38;5;241m=\u001b[39m \u001b[38;5;241m1\u001b[39m\n\u001b[1;32m     53\u001b[0m \u001b[38;5;28;01melse\u001b[39;00m:\n\u001b[1;32m     54\u001b[0m     \u001b[38;5;66;03m# 子エリアがいない場合\u001b[39;00m\n",
      "\u001b[0;31mOperationalError\u001b[0m: database is locked"
     ]
    }
   ],
   "source": [
    "import requests\n",
    "import sqlite3\n",
    "\n",
    "# URLからJSONデータを取得\n",
    "url = \"http://www.jma.go.jp/bosai/common/const/area.json\"\n",
    "response = requests.get(url)\n",
    "\n",
    "# レスポンスのエンコーディングをUTF-8に設定\n",
    "response.encoding = 'utf-8'\n",
    "\n",
    "# JSONデータをPythonの辞書として解析\n",
    "area_json = response.json()\n",
    "\n",
    "# \"centers\" キー内のデータを取得\n",
    "centers = area_json.get(\"centers\", {})\n",
    "\n",
    "# SQLiteデータベース接続\n",
    "db_filename = 'area_info.db'\n",
    "conn = sqlite3.connect(db_filename)\n",
    "cursor = conn.cursor()\n",
    "\n",
    "# テーブルの作成（もしテーブルが存在しない場合）\n",
    "cursor.execute(\"\"\"\n",
    "CREATE TABLE IF NOT EXISTS area_info (\n",
    "    id INTEGER PRIMARY KEY,\n",
    "    area_code TEXT,\n",
    "    area_name TEXT,\n",
    "    en_name TEXT,\n",
    "    office_name TEXT,\n",
    "    children_code TEXT\n",
    ")\n",
    "\"\"\")\n",
    "\n",
    "# idの初期化\n",
    "id_counter = 1\n",
    "\n",
    "# 各エリア情報をSQLiteデータベースに挿入\n",
    "for area_code, area_info in centers.items():\n",
    "    name = area_info.get(\"name\", \"N/A\")\n",
    "    enName = area_info.get(\"enName\", \"N/A\")\n",
    "    officeName = area_info.get(\"officeName\", \"N/A\")\n",
    "    children = area_info.get(\"children\", [])\n",
    "\n",
    "    # 親エリアの情報をSQLiteに書き込む\n",
    "    if children:\n",
    "        for region_code in children:\n",
    "            # 子エリアIDを挿入\n",
    "            cursor.execute(\"\"\"\n",
    "            INSERT INTO area_info (id, area_code, area_name, en_name, office_name, children_code)\n",
    "            VALUES (?, ?, ?, ?, ?, ?)\n",
    "            \"\"\", (id_counter, area_code, name, enName, officeName, region_code))\n",
    "            id_counter += 1\n",
    "    else:\n",
    "        # 子エリアがいない場合\n",
    "        cursor.execute(\"\"\"\n",
    "        INSERT INTO area_info (id, area_code, area_name, en_name, office_name, children_code)\n",
    "        VALUES (?, ?, ?, ?, ?, ?)\n",
    "        \"\"\", (id_counter, area_code, name, enName, officeName, 'N/A'))\n",
    "        id_counter += 1\n",
    "\n",
    "# コミットして変更を保存\n",
    "conn.commit()\n",
    "\n",
    "# データベース接続を閉じる\n",
    "conn.close()"
   ]
  }
 ],
 "metadata": {
  "kernelspec": {
   "display_name": ".venv",
   "language": "python",
   "name": "python3"
  },
  "language_info": {
   "codemirror_mode": {
    "name": "ipython",
    "version": 3
   },
   "file_extension": ".py",
   "mimetype": "text/x-python",
   "name": "python",
   "nbconvert_exporter": "python",
   "pygments_lexer": "ipython3",
   "version": "3.12.8"
  }
 },
 "nbformat": 4,
 "nbformat_minor": 2
}
